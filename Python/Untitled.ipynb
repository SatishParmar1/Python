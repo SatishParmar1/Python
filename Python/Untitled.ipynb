{
 "cells": [
  {
   "cell_type": "code",
   "execution_count": 12,
   "id": "f4811dfa",
   "metadata": {},
   "outputs": [
    {
     "name": "stdout",
     "output_type": "stream",
     "text": [
      "hy\n"
     ]
    }
   ],
   "source": [
    "hello =[\"hello\",\"hy\",\"hi\"]\n",
    "for i in hello:\n",
    "    print(i)\n",
    "\n"
   ]
  },
  {
   "cell_type": "code",
   "execution_count": 15,
   "id": "d0dec9b5",
   "metadata": {},
   "outputs": [
    {
     "name": "stdout",
     "output_type": "stream",
     "text": [
      "hello\n",
      "hy\n",
      "hi\n"
     ]
    }
   ],
   "source": [
    "hello =(\"hello\",\"hy\",\"hi\")\n",
    "for i in hello[:]:\n",
    "    print(i)"
   ]
  },
  {
   "cell_type": "code",
   "execution_count": null,
   "id": "7392f7bf",
   "metadata": {},
   "outputs": [],
   "source": [
    "hello={\n",
    "    \"hello\",\"hi\",\"hu\"\n",
    "}\n",
    "print(hello)"
   ]
  },
  {
   "cell_type": "code",
   "execution_count": null,
   "id": "e37aeb92",
   "metadata": {},
   "outputs": [],
   "source": [
    "str = \"s , hello , world?\"\n",
    "list_str=str.split()\n",
    "join_str = str.join(list_str)\n",
    "print(set(join_str))"
   ]
  },
  {
   "cell_type": "code",
   "execution_count": 1,
   "id": "4e16d19c",
   "metadata": {},
   "outputs": [
    {
     "name": "stdout",
     "output_type": "stream",
     "text": [
      "enter your name2004\n",
      "2004\n",
      "not found\n"
     ]
    }
   ],
   "source": [
    "thisdict = {\n",
    "  \"satish\":\"2003\",\n",
    "  \"sachin\":\"2004\"\n",
    "}\n",
    "name = input(\"enter your name\")\n",
    "for i in thisdict:\n",
    "    if name in thisdict[i]:\n",
    "        print(thisdict[i])\n",
    "    else:\n",
    "         retrun 0\n",
    "print(\"not found\")"
   ]
  },
  {
   "cell_type": "code",
   "execution_count": 13,
   "id": "13868af9",
   "metadata": {},
   "outputs": [
    {
     "name": "stdout",
     "output_type": "stream",
     "text": [
      "hell0 my 20 name is satish \n"
     ]
    }
   ],
   "source": [
    "age = 20\n",
    "name = \"hell0 my {} name is satish \".format(age)\n",
    "print(name)"
   ]
  },
  {
   "cell_type": "code",
   "execution_count": null,
   "id": "55c6dacf",
   "metadata": {},
   "outputs": [],
   "source": []
  }
 ],
 "metadata": {
  "kernelspec": {
   "display_name": "Python 3 (ipykernel)",
   "language": "python",
   "name": "python3"
  },
  "language_info": {
   "codemirror_mode": {
    "name": "ipython",
    "version": 3
   },
   "file_extension": ".py",
   "mimetype": "text/x-python",
   "name": "python",
   "nbconvert_exporter": "python",
   "pygments_lexer": "ipython3",
   "version": "3.11.5"
  }
 },
 "nbformat": 4,
 "nbformat_minor": 5
}
