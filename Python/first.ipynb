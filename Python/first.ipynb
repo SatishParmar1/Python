{
 "cells": [
  {
   "cell_type": "code",
   "execution_count": 10,
   "id": "e7bf3b90",
   "metadata": {},
   "outputs": [
    {
     "name": "stdout",
     "output_type": "stream",
     "text": [
      "enter your first data10\n",
      "even\n"
     ]
    }
   ],
   "source": [
    "x = int(input(\"enter your first data\"))\n",
    "if(x%2==0): \n",
    "    print(\"even\");\n",
    "else:\n",
    "    print(\"odd\");"
   ]
  },
  {
   "cell_type": "code",
   "execution_count": 20,
   "id": "eb6e1973",
   "metadata": {},
   "outputs": [
    {
     "name": "stdout",
     "output_type": "stream",
     "text": [
      "30\n"
     ]
    }
   ],
   "source": [
    "x= 20\n",
    "y=30\n",
    "z=10\n",
    "\n",
    "if (x>y)and(x>z):\n",
    "    print(x);\n",
    "elif (y>x)and(y>z):\n",
    "        print(y);\n",
    "else:\n",
    "    print(z);"
   ]
  },
  {
   "cell_type": "code",
   "execution_count": 21,
   "id": "0d2d2071",
   "metadata": {},
   "outputs": [
    {
     "name": "stdout",
     "output_type": "stream",
     "text": [
      "enter your principle20000\n",
      "enter your rate2\n",
      "enter your time1\n",
      "20400.0\n"
     ]
    }
   ],
   "source": [
    "principle = int(input(\"enter your principle\"))\n",
    "rate = int(input(\"enter your rate\"))\n",
    "time = int(input(\"enter your time\"))\n",
    "\n",
    "amount = principle*((1+rate/100)**time)\n",
    "print(amount)"
   ]
  },
  {
   "cell_type": "code",
   "execution_count": 22,
   "id": "0ba26f63",
   "metadata": {},
   "outputs": [
    {
     "name": "stdout",
     "output_type": "stream",
     "text": [
      "0.5\n",
      "0.3333333333333333\n",
      "0.25\n",
      "0.2\n",
      "0.16666666666666666\n",
      "0.14285714285714285\n",
      "0.125\n",
      "0.1111111111111111\n",
      "0.1\n"
     ]
    }
   ],
   "source": [
    "for x in range(2,11):\n",
    "    print(1/x);"
   ]
  },
  {
   "cell_type": "code",
   "execution_count": null,
   "id": "0aa4c4af",
   "metadata": {},
   "outputs": [],
   "source": [
    "color = [\"white\",\"black\",\"blue\",\"green\"]\n",
    "for i in color:\n",
    "    print(i);\n",
    "    \n",
    "all= \"helloiamsatish\"\n",
    "for i in all:\n",
    "    print(i)"
   ]
  },
  {
   "cell_type": "markdown",
   "id": "ffb427ef",
   "metadata": {},
   "source": [
    "x = int(input(\"enter your number\"))\n",
    "while(x>=0):\n",
    "    print(x)\n",
    "    x = x-1"
   ]
  },
  {
   "cell_type": "code",
   "execution_count": 52,
   "id": "25482e0b",
   "metadata": {},
   "outputs": [
    {
     "name": "stdout",
     "output_type": "stream",
     "text": [
      "enter your number4\n",
      "factorial of your number is 24\n"
     ]
    }
   ],
   "source": [
    "x = int(input(\"enter your number\"))\n",
    "i=1\n",
    "while(x>=1):\n",
    "    i=x*i;\n",
    "    x=x-1;\n",
    "    \n",
    "print(\"factorial of your number is\",i)\n",
    "    "
   ]
  },
  {
   "cell_type": "code",
   "execution_count": 63,
   "id": "fe3b373b",
   "metadata": {},
   "outputs": [
    {
     "name": "stdout",
     "output_type": "stream",
     "text": [
      "0\n",
      "1\n",
      "1\n",
      "0\n",
      "1\n",
      "2\n",
      "3\n",
      "4\n"
     ]
    }
   ],
   "source": [
    "x = 0\n",
    "y = 1\n",
    "n = 5\n",
    "print(x)\n",
    "print(y)\n",
    "for i in range(0,n):\n",
    "    x= y\n",
    "    print(x)\n",
    "    y= i\n",
    "    \n",
    "print(y)"
   ]
  },
  {
   "cell_type": "code",
   "execution_count": 8,
   "id": "d00fc676",
   "metadata": {},
   "outputs": [
    {
     "name": "stdout",
     "output_type": "stream",
     "text": [
      "10\n",
      "20\n",
      "30\n",
      "40\n"
     ]
    }
   ],
   "source": [
    "import array as arr  \n",
    "def selection():  \n",
    "    numbers = arr.array('i', [40, 20, 30, 10])    \n",
    "    n = len(numbers)\n",
    "    for i in range (n):\n",
    "        mini = i\n",
    "        for j in range (i+1,n):\n",
    "            mini = j\n",
    "            if numbers[i]>numbers[j]:\n",
    "                numbers[i],numbers[mini]= numbers[mini],numbers[i]\n",
    "        print(numbers[i])\n",
    "selection()"
   ]
  },
  {
   "cell_type": "code",
   "execution_count": 29,
   "id": "e677cebd",
   "metadata": {},
   "outputs": [
    {
     "name": "stdout",
     "output_type": "stream",
     "text": [
      "hello hy\n",
      "20\n"
     ]
    }
   ],
   "source": [
    "class Person:\n",
    "    def __init__(self,fname,lname):\n",
    "        self.firstname = fname\n",
    "        self.lastname = lname\n",
    "        \n",
    "    def printname(self):\n",
    "        print(self.firstname, self.lastname)\n",
    "        \n",
    "class student(Person):\n",
    "    def __init__(self,fname,lname):\n",
    "     super().__init__(fname,lname)\n",
    "     self.age = 20\n",
    "#  Person.__init__(self,fname,lname)\n",
    "\n",
    "x = student(\"hello\", \"hy\")\n",
    "x.printname()\n",
    "print(x.age)"
   ]
  },
  {
   "cell_type": "code",
   "execution_count": 55,
   "id": "51a4789a",
   "metadata": {},
   "outputs": [
    {
     "name": "stdout",
     "output_type": "stream",
     "text": [
      "20\n"
     ]
    }
   ],
   "source": [
    "#write a python function to find a maximum number out of 3\n",
    "\n",
    "class Person:\n",
    "    def __init__(self,first,second,third):\n",
    "        self.fn = first\n",
    "        self.sn = second\n",
    "        self.tn = third\n",
    "        \n",
    "    def printname(self):\n",
    "         if self.fn>self.sn or self.fn>self.tn:\n",
    "                print(self.fn)\n",
    "         elif self.sn>self.fn or self.sn>self.tn:\n",
    "            print(self.sn)\n",
    "         else:\n",
    "            print(self.tn)\n",
    "        \n",
    "class student(Person):\n",
    "   pass\n",
    "#  Person.__init__(self,fname,lname)\n",
    "\n",
    "x = student(10,20,15)\n",
    "x.printname()"
   ]
  },
  {
   "cell_type": "code",
   "execution_count": 36,
   "id": "a34a3127",
   "metadata": {},
   "outputs": [
    {
     "name": "stdout",
     "output_type": "stream",
     "text": [
      "dlrow olleh\n"
     ]
    }
   ],
   "source": [
    "#reverse the string\n",
    "a = \"hello world\"[::-1]\n",
    "print(a)"
   ]
  },
  {
   "cell_type": "code",
   "execution_count": 74,
   "id": "9160c908",
   "metadata": {},
   "outputs": [
    {
     "name": "stdout",
     "output_type": "stream",
     "text": [
      "1\n",
      "2\n",
      "4\n",
      "7\n"
     ]
    }
   ],
   "source": [
    "class Person:\n",
    "    def __init__(self,first):\n",
    "        self.fn = first\n",
    "        \n",
    "    def printname(self):\n",
    "        n =1\n",
    "        for i in range (self.fn):\n",
    "            n = i+1*n\n",
    "            print(n)\n",
    "            \n",
    "        \n",
    "class student(Person):\n",
    "  pass\n",
    "#  Person.__init__(self,fname,lname)\n",
    "\n",
    "x = student(4)\n",
    "x.printname()\n"
   ]
  },
  {
   "cell_type": "code",
   "execution_count": null,
   "id": "2bd99b32",
   "metadata": {},
   "outputs": [],
   "source": []
  }
 ],
 "metadata": {
  "kernelspec": {
   "display_name": "Python 3 (ipykernel)",
   "language": "python",
   "name": "python3"
  },
  "language_info": {
   "codemirror_mode": {
    "name": "ipython",
    "version": 3
   },
   "file_extension": ".py",
   "mimetype": "text/x-python",
   "name": "python",
   "nbconvert_exporter": "python",
   "pygments_lexer": "ipython3",
   "version": "3.11.5"
  }
 },
 "nbformat": 4,
 "nbformat_minor": 5
}
